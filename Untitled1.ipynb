{
  "nbformat": 4,
  "nbformat_minor": 0,
  "metadata": {
    "colab": {
      "name": "Untitled1.ipynb",
      "provenance": [],
      "authorship_tag": "ABX9TyOMj/Z0ZeMt0vEX7gw4M8D7",
      "include_colab_link": true
    },
    "kernelspec": {
      "name": "python3",
      "display_name": "Python 3"
    }
  },
  "cells": [
    {
      "cell_type": "markdown",
      "metadata": {
        "id": "view-in-github",
        "colab_type": "text"
      },
      "source": [
        "<a href=\"https://colab.research.google.com/github/viviboll/introducao-python/blob/main/Untitled1.ipynb\" target=\"_parent\"><img src=\"https://colab.research.google.com/assets/colab-badge.svg\" alt=\"Open In Colab\"/></a>"
      ]
    },
    {
      "cell_type": "code",
      "metadata": {
        "id": "p-6X4JPe-_U8",
        "outputId": "bc7bf8d1-73f1-4e5f-9d0a-86f185d2ea73",
        "colab": {
          "base_uri": "https://localhost:8080/",
          "height": 85
        }
      },
      "source": [
        "rosa, roxo, azul = map(int, input(\"Informe separado por virgulas quantas participantes por cor: \").split(\",\"))\n",
        "total_participantes = rosa + roxo + azul\n",
        "\n",
        "porcentagem_rosa = rosa / total_participantes * 100\n",
        "porcentagem_roxo = roxo / total_participantes * 100\n",
        "porcentagem_azul = azul / total_participantes * 100\n",
        "\n",
        "print(f\"{porcentagem_rosa:.2f} % de pessoas preferem rosa.\")\n",
        "print(f\"{porcentagem_roxo:.2f} % de pessoas preferem roxo.\")\n",
        "print(f\"{porcentagem_azul:.2f} % de pessoas preferem azul.\")"
      ],
      "execution_count": 15,
      "outputs": [
        {
          "output_type": "stream",
          "text": [
            "Informe separado por virgulas quantas participantes por cor: 10,20,40\n",
            "14.29 % de pessoas preferem rosa.\n",
            "28.57 % de pessoas preferem roxo.\n",
            "57.14 % de pessoas preferem azul.\n"
          ],
          "name": "stdout"
        }
      ]
    }
  ]
}